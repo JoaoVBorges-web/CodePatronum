{
  "nbformat": 4,
  "nbformat_minor": 0,
  "metadata": {
    "colab": {
      "name": "Trabalho_Ciencia_de_dados.ipynb",
      "provenance": [],
      "authorship_tag": "ABX9TyNZ8sIHcQLQjRHMduybx2Hr",
      "include_colab_link": true
    },
    "kernelspec": {
      "name": "python3",
      "display_name": "Python 3"
    },
    "language_info": {
      "name": "python"
    }
  },
  "cells": [
    {
      "cell_type": "markdown",
      "metadata": {
        "id": "view-in-github",
        "colab_type": "text"
      },
      "source": [
        "<a href=\"https://colab.research.google.com/github/JoaoVBorges-web/CodePatronum/blob/main/Trabalho_Ciencia_de_dados.ipynb\" target=\"_parent\"><img src=\"https://colab.research.google.com/assets/colab-badge.svg\" alt=\"Open In Colab\"/></a>"
      ]
    },
    {
      "cell_type": "markdown",
      "source": [
        "1-Leitura de dados com `pandas`"
      ],
      "metadata": {
        "id": "LV7nijiC2bwM"
      }
    },
    {
      "cell_type": "code",
      "execution_count": 103,
      "metadata": {
        "id": "cFiVzxp_ojB6"
      },
      "outputs": [],
      "source": [
        "#Importação do Pandas e Numpy\n",
        "import pandas as pd\n",
        "import numpy as np"
      ]
    },
    {
      "cell_type": "markdown",
      "source": [
        ""
      ],
      "metadata": {
        "id": "xSy38JEn9ppQ"
      }
    },
    {
      "cell_type": "code",
      "source": [
        "#Importação da Base de dados a ser utilizada\n",
        "df = pd.read_excel('/content/DadosVendaCarros.xlsx')"
      ],
      "metadata": {
        "id": "VLJLbiplo7BE"
      },
      "execution_count": 104,
      "outputs": []
    },
    {
      "cell_type": "code",
      "source": [
        "#Verificar base de dados\n",
        "df.head()"
      ],
      "metadata": {
        "colab": {
          "base_uri": "https://localhost:8080/",
          "height": 206
        },
        "id": "zj0kjm8w1-7E",
        "outputId": "b3524a23-0676-4b81-ab88-143d57222872"
      },
      "execution_count": 115,
      "outputs": [
        {
          "output_type": "execute_result",
          "data": {
            "text/plain": [
              "  DataNotaFiscal    Fabricante     Estado  ValorVenda  ValorCusto  \\\n",
              "0     2016-04-10   Rolls Royce  São Paulo       95000       50000   \n",
              "1     2016-01-01  Aston Martin  São Paulo      120000       75000   \n",
              "2     2016-02-02   Rolls Royce  São Paulo       88000       75000   \n",
              "3     2016-03-03   Rolls Royce  São Paulo       89000       88000   \n",
              "4     2016-04-04   Rolls Royce  São Paulo       92000       62000   \n",
              "\n",
              "   TotalDesconto  CustoEntrega  CustoMaoDeObra    NomeCliente       Modelo  \\\n",
              "0          500.0           750             750    Aldo Motors     Camargue   \n",
              "1            0.0          1500             550    Honest John          DBS   \n",
              "2          750.0          1000             550  Bright Orange  Prata Ghost   \n",
              "3            0.0          1000             550    Honest John  Prata Ghost   \n",
              "4            0.0          1500             550    Wheels'R'Us     Camargue   \n",
              "\n",
              "        Cor                           Ano  \n",
              "0  Vermelho 1970-01-01 00:00:00.000002016  \n",
              "1      Azul 1970-01-01 00:00:00.000002016  \n",
              "2     Verde 1970-01-01 00:00:00.000002016  \n",
              "3      Azul 1970-01-01 00:00:00.000002016  \n",
              "4     Prata 1970-01-01 00:00:00.000002016  "
            ],
            "text/html": [
              "\n",
              "  <div id=\"df-6da040e0-370f-489a-b132-cea5fcb91a5b\">\n",
              "    <div class=\"colab-df-container\">\n",
              "      <div>\n",
              "<style scoped>\n",
              "    .dataframe tbody tr th:only-of-type {\n",
              "        vertical-align: middle;\n",
              "    }\n",
              "\n",
              "    .dataframe tbody tr th {\n",
              "        vertical-align: top;\n",
              "    }\n",
              "\n",
              "    .dataframe thead th {\n",
              "        text-align: right;\n",
              "    }\n",
              "</style>\n",
              "<table border=\"1\" class=\"dataframe\">\n",
              "  <thead>\n",
              "    <tr style=\"text-align: right;\">\n",
              "      <th></th>\n",
              "      <th>DataNotaFiscal</th>\n",
              "      <th>Fabricante</th>\n",
              "      <th>Estado</th>\n",
              "      <th>ValorVenda</th>\n",
              "      <th>ValorCusto</th>\n",
              "      <th>TotalDesconto</th>\n",
              "      <th>CustoEntrega</th>\n",
              "      <th>CustoMaoDeObra</th>\n",
              "      <th>NomeCliente</th>\n",
              "      <th>Modelo</th>\n",
              "      <th>Cor</th>\n",
              "      <th>Ano</th>\n",
              "    </tr>\n",
              "  </thead>\n",
              "  <tbody>\n",
              "    <tr>\n",
              "      <th>0</th>\n",
              "      <td>2016-04-10</td>\n",
              "      <td>Rolls Royce</td>\n",
              "      <td>São Paulo</td>\n",
              "      <td>95000</td>\n",
              "      <td>50000</td>\n",
              "      <td>500.0</td>\n",
              "      <td>750</td>\n",
              "      <td>750</td>\n",
              "      <td>Aldo Motors</td>\n",
              "      <td>Camargue</td>\n",
              "      <td>Vermelho</td>\n",
              "      <td>1970-01-01 00:00:00.000002016</td>\n",
              "    </tr>\n",
              "    <tr>\n",
              "      <th>1</th>\n",
              "      <td>2016-01-01</td>\n",
              "      <td>Aston Martin</td>\n",
              "      <td>São Paulo</td>\n",
              "      <td>120000</td>\n",
              "      <td>75000</td>\n",
              "      <td>0.0</td>\n",
              "      <td>1500</td>\n",
              "      <td>550</td>\n",
              "      <td>Honest John</td>\n",
              "      <td>DBS</td>\n",
              "      <td>Azul</td>\n",
              "      <td>1970-01-01 00:00:00.000002016</td>\n",
              "    </tr>\n",
              "    <tr>\n",
              "      <th>2</th>\n",
              "      <td>2016-02-02</td>\n",
              "      <td>Rolls Royce</td>\n",
              "      <td>São Paulo</td>\n",
              "      <td>88000</td>\n",
              "      <td>75000</td>\n",
              "      <td>750.0</td>\n",
              "      <td>1000</td>\n",
              "      <td>550</td>\n",
              "      <td>Bright Orange</td>\n",
              "      <td>Prata Ghost</td>\n",
              "      <td>Verde</td>\n",
              "      <td>1970-01-01 00:00:00.000002016</td>\n",
              "    </tr>\n",
              "    <tr>\n",
              "      <th>3</th>\n",
              "      <td>2016-03-03</td>\n",
              "      <td>Rolls Royce</td>\n",
              "      <td>São Paulo</td>\n",
              "      <td>89000</td>\n",
              "      <td>88000</td>\n",
              "      <td>0.0</td>\n",
              "      <td>1000</td>\n",
              "      <td>550</td>\n",
              "      <td>Honest John</td>\n",
              "      <td>Prata Ghost</td>\n",
              "      <td>Azul</td>\n",
              "      <td>1970-01-01 00:00:00.000002016</td>\n",
              "    </tr>\n",
              "    <tr>\n",
              "      <th>4</th>\n",
              "      <td>2016-04-04</td>\n",
              "      <td>Rolls Royce</td>\n",
              "      <td>São Paulo</td>\n",
              "      <td>92000</td>\n",
              "      <td>62000</td>\n",
              "      <td>0.0</td>\n",
              "      <td>1500</td>\n",
              "      <td>550</td>\n",
              "      <td>Wheels'R'Us</td>\n",
              "      <td>Camargue</td>\n",
              "      <td>Prata</td>\n",
              "      <td>1970-01-01 00:00:00.000002016</td>\n",
              "    </tr>\n",
              "  </tbody>\n",
              "</table>\n",
              "</div>\n",
              "      <button class=\"colab-df-convert\" onclick=\"convertToInteractive('df-6da040e0-370f-489a-b132-cea5fcb91a5b')\"\n",
              "              title=\"Convert this dataframe to an interactive table.\"\n",
              "              style=\"display:none;\">\n",
              "        \n",
              "  <svg xmlns=\"http://www.w3.org/2000/svg\" height=\"24px\"viewBox=\"0 0 24 24\"\n",
              "       width=\"24px\">\n",
              "    <path d=\"M0 0h24v24H0V0z\" fill=\"none\"/>\n",
              "    <path d=\"M18.56 5.44l.94 2.06.94-2.06 2.06-.94-2.06-.94-.94-2.06-.94 2.06-2.06.94zm-11 1L8.5 8.5l.94-2.06 2.06-.94-2.06-.94L8.5 2.5l-.94 2.06-2.06.94zm10 10l.94 2.06.94-2.06 2.06-.94-2.06-.94-.94-2.06-.94 2.06-2.06.94z\"/><path d=\"M17.41 7.96l-1.37-1.37c-.4-.4-.92-.59-1.43-.59-.52 0-1.04.2-1.43.59L10.3 9.45l-7.72 7.72c-.78.78-.78 2.05 0 2.83L4 21.41c.39.39.9.59 1.41.59.51 0 1.02-.2 1.41-.59l7.78-7.78 2.81-2.81c.8-.78.8-2.07 0-2.86zM5.41 20L4 18.59l7.72-7.72 1.47 1.35L5.41 20z\"/>\n",
              "  </svg>\n",
              "      </button>\n",
              "      \n",
              "  <style>\n",
              "    .colab-df-container {\n",
              "      display:flex;\n",
              "      flex-wrap:wrap;\n",
              "      gap: 12px;\n",
              "    }\n",
              "\n",
              "    .colab-df-convert {\n",
              "      background-color: #E8F0FE;\n",
              "      border: none;\n",
              "      border-radius: 50%;\n",
              "      cursor: pointer;\n",
              "      display: none;\n",
              "      fill: #1967D2;\n",
              "      height: 32px;\n",
              "      padding: 0 0 0 0;\n",
              "      width: 32px;\n",
              "    }\n",
              "\n",
              "    .colab-df-convert:hover {\n",
              "      background-color: #E2EBFA;\n",
              "      box-shadow: 0px 1px 2px rgba(60, 64, 67, 0.3), 0px 1px 3px 1px rgba(60, 64, 67, 0.15);\n",
              "      fill: #174EA6;\n",
              "    }\n",
              "\n",
              "    [theme=dark] .colab-df-convert {\n",
              "      background-color: #3B4455;\n",
              "      fill: #D2E3FC;\n",
              "    }\n",
              "\n",
              "    [theme=dark] .colab-df-convert:hover {\n",
              "      background-color: #434B5C;\n",
              "      box-shadow: 0px 1px 3px 1px rgba(0, 0, 0, 0.15);\n",
              "      filter: drop-shadow(0px 1px 2px rgba(0, 0, 0, 0.3));\n",
              "      fill: #FFFFFF;\n",
              "    }\n",
              "  </style>\n",
              "\n",
              "      <script>\n",
              "        const buttonEl =\n",
              "          document.querySelector('#df-6da040e0-370f-489a-b132-cea5fcb91a5b button.colab-df-convert');\n",
              "        buttonEl.style.display =\n",
              "          google.colab.kernel.accessAllowed ? 'block' : 'none';\n",
              "\n",
              "        async function convertToInteractive(key) {\n",
              "          const element = document.querySelector('#df-6da040e0-370f-489a-b132-cea5fcb91a5b');\n",
              "          const dataTable =\n",
              "            await google.colab.kernel.invokeFunction('convertToInteractive',\n",
              "                                                     [key], {});\n",
              "          if (!dataTable) return;\n",
              "\n",
              "          const docLinkHtml = 'Like what you see? Visit the ' +\n",
              "            '<a target=\"_blank\" href=https://colab.research.google.com/notebooks/data_table.ipynb>data table notebook</a>'\n",
              "            + ' to learn more about interactive tables.';\n",
              "          element.innerHTML = '';\n",
              "          dataTable['output_type'] = 'display_data';\n",
              "          await google.colab.output.renderOutput(dataTable, element);\n",
              "          const docLink = document.createElement('div');\n",
              "          docLink.innerHTML = docLinkHtml;\n",
              "          element.appendChild(docLink);\n",
              "        }\n",
              "      </script>\n",
              "    </div>\n",
              "  </div>\n",
              "  "
            ]
          },
          "metadata": {},
          "execution_count": 115
        }
      ]
    },
    {
      "cell_type": "code",
      "source": [
        "#Leitura de Dados\n",
        "df.info()"
      ],
      "metadata": {
        "id": "eN9EhwM4ujDg"
      },
      "execution_count": null,
      "outputs": []
    },
    {
      "cell_type": "markdown",
      "source": [
        "2-Manipulação e limpeza de dados com `pandas`"
      ],
      "metadata": {
        "id": "_gym8Wb82otb"
      }
    },
    {
      "cell_type": "markdown",
      "source": [
        "Obs: Nossa base de dados utilizada nao possui nenhum campo nulo, sendo assim , nao realizamos a limpeza dos campos"
      ],
      "metadata": {
        "id": "khXqQODk484y"
      }
    },
    {
      "cell_type": "code",
      "source": [
        "#Alteração no tipo do campo.\n",
        "df['DataNotaFiscal'] = pd.to_datetime(df['DataNotaFiscal'])\n",
        "df['Ano'] = pd.to_datetime(df['Ano'])"
      ],
      "metadata": {
        "id": "HGtjEa802uyt"
      },
      "execution_count": 117,
      "outputs": []
    },
    {
      "cell_type": "code",
      "source": [
        "#Verificar dados nulos\n",
        "df.isnull()"
      ],
      "metadata": {
        "id": "1HvIZnbX3Aac"
      },
      "execution_count": null,
      "outputs": []
    },
    {
      "cell_type": "code",
      "source": [
        "#Verificar dados nulos para cada coluna\n",
        "df.isnull().sum()"
      ],
      "metadata": {
        "id": "vi5sCD4a3Ro0"
      },
      "execution_count": null,
      "outputs": []
    },
    {
      "cell_type": "code",
      "source": [
        "#Remove os dados nulos ecnontrados\n",
        "shape_before = df.shape[0]\n",
        "shape_curr = df.dropna().shape[0]\n",
        "print(\"texto escolhido\".format(shape_before))"
      ],
      "metadata": {
        "id": "JYqNhRyn5V5i"
      },
      "execution_count": null,
      "outputs": []
    },
    {
      "cell_type": "code",
      "source": [
        "#Usamos para substituição dos dados caso seja nulo na coluna que digitarmos\n",
        "df.fillna('')"
      ],
      "metadata": {
        "id": "ZWwPkBPF4Lh0"
      },
      "execution_count": null,
      "outputs": []
    },
    {
      "cell_type": "code",
      "source": [
        "#Mostra se existe dados duplicados na nossa base\n",
        "df.duplicated()"
      ],
      "metadata": {
        "id": "MktAVxYO-KRS"
      },
      "execution_count": null,
      "outputs": []
    },
    {
      "cell_type": "markdown",
      "source": [
        "3-Descritivo e exploração de dados com pandas `(groupbys)`"
      ],
      "metadata": {
        "id": "yONy-9iX6HXM"
      }
    },
    {
      "cell_type": "code",
      "source": [
        "#Usando Groupby\n",
        "\n",
        "df[['Fabricante','Modelo','ValorCusto']].groupby(['Fabricante','Modelo']).mean()"
      ],
      "metadata": {
        "id": "jiaNYR9z6KqZ"
      },
      "execution_count": null,
      "outputs": []
    }
  ]
}